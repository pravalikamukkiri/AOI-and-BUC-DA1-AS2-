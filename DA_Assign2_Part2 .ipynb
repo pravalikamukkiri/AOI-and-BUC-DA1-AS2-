{
  "cells": [
    {
      "cell_type": "code",
      "execution_count": 1,
      "metadata": {
        "id": "DvBwOEc1Wwtg"
      },
      "outputs": [],
      "source": [
        "import pandas as pd\n",
        "import matplotlib.pyplot as plt \n",
        "import numpy as np\n",
        "import os"
      ]
    },
    {
      "cell_type": "code",
      "execution_count": 2,
      "metadata": {
        "id": "NHE7zSoVVTpx",
        "colab": {
          "base_uri": "https://localhost:8080/"
        },
        "outputId": "87fabcb5-f46f-456c-c102-35cc8d57d34c"
      },
      "outputs": [
        {
          "output_type": "stream",
          "name": "stdout",
          "text": [
            "Mounted at /content/gdrive\n"
          ]
        }
      ],
      "source": [
        "from google.colab import drive\n",
        "drive.mount('/content/gdrive')\n",
        "\n"
      ]
    },
    {
      "cell_type": "code",
      "execution_count": 3,
      "metadata": {
        "id": "Idjcxl4qXV_b"
      },
      "outputs": [],
      "source": [
        "df=pd.read_excel('/content/gdrive/My Drive/master.xlsx')"
      ]
    },
    {
      "cell_type": "code",
      "source": [
        "%cd '/content/gdrive/My Drive/temp'\n"
      ],
      "metadata": {
        "id": "R-6QRsARIhPZ",
        "colab": {
          "base_uri": "https://localhost:8080/"
        },
        "outputId": "0bdbbca9-d4e7-4a93-9c1d-8754688767e9"
      },
      "execution_count": 4,
      "outputs": [
        {
          "output_type": "stream",
          "name": "stdout",
          "text": [
            "/content/gdrive/My Drive/temp\n"
          ]
        }
      ]
    },
    {
      "cell_type": "code",
      "source": [
        "%rm ./*"
      ],
      "metadata": {
        "id": "K7ZuQC6djYBA"
      },
      "execution_count": 5,
      "outputs": []
    },
    {
      "cell_type": "code",
      "source": [
        "%ls"
      ],
      "metadata": {
        "id": "gK7WAIPoA5gs"
      },
      "execution_count": 6,
      "outputs": []
    },
    {
      "cell_type": "code",
      "execution_count": 7,
      "metadata": {
        "id": "FOa4SYygO-TF"
      },
      "outputs": [],
      "source": [
        "columns=df.columns\n",
        "numDims = len(columns)\n",
        "cardinality = [len(df[col]) for col in df.columns]\n",
        "alphabets=[chr(i) for i in range(ord('a'),ord('z')+1)]\n",
        "\n",
        "\n",
        "col_dict = {}\n",
        "\n",
        "for i in range(numDims):\n",
        "  col_dict[columns[i]] = alphabets[i]\n",
        "\n",
        "\n",
        "def BUC(input, d, minsup,cube=\"\", datacube=\"\"):\n",
        "  allcubes=[]\n",
        "  for dim in range(d,len(columns)):\n",
        "    col = str(columns[dim])\n",
        "    x = input[col].value_counts()\n",
        "    for a in x.iteritems():\n",
        "      val = a[0]\n",
        "      if(a[1]>minsup):\n",
        "        ndf = input[input[col]==val]\n",
        "        file = cube+col_dict[col]+\".txt\"\n",
        "        with open(file, 'a') as f:\n",
        "          if(file not in allcubes):\n",
        "            allcubes.append(file)\n",
        "          # print(file,len(ndf))\n",
        "          f.write(datacube +\" \"+ str(val) +\"=\"+ str(len(ndf)) + \"\\n\")\n",
        "          f.close()\n",
        "        x = BUC(ndf,dim+1,minsup, cube+col_dict[col], datacube+\" \"+str(val))\n",
        "        for a in x:\n",
        "          if a not in allcubes:\n",
        "            allcubes.append(a)\n",
        "  return allcubes"
      ]
    },
    {
      "cell_type": "code",
      "source": [
        "buccubes=BUC(df,0,1000)"
      ],
      "metadata": {
        "id": "baavdrcOM8Bd"
      },
      "execution_count": 8,
      "outputs": []
    },
    {
      "cell_type": "code",
      "source": [
        "print(len(buccubes))"
      ],
      "metadata": {
        "colab": {
          "base_uri": "https://localhost:8080/"
        },
        "id": "aoW3Kk3JWgbY",
        "outputId": "f085714e-9238-4767-e4da-10debd5ffe66"
      },
      "execution_count": 9,
      "outputs": [
        {
          "output_type": "stream",
          "name": "stdout",
          "text": [
            "20\n"
          ]
        }
      ]
    },
    {
      "cell_type": "code",
      "source": [
        "%cd '/content/gdrive/My Drive/temp1'"
      ],
      "metadata": {
        "colab": {
          "base_uri": "https://localhost:8080/"
        },
        "id": "Ck4xX-naECl6",
        "outputId": "ab96abd0-6dba-4cf1-9d16-6d6c1f70e3a3"
      },
      "execution_count": 11,
      "outputs": [
        {
          "output_type": "stream",
          "name": "stdout",
          "text": [
            "/content/gdrive/My Drive/temp1\n"
          ]
        }
      ]
    },
    {
      "cell_type": "code",
      "source": [
        "%rm ./*"
      ],
      "metadata": {
        "id": "NpFmFY4LFvxe"
      },
      "execution_count": 12,
      "outputs": []
    },
    {
      "cell_type": "code",
      "source": [
        "def BUC1(input,d,minsup, cube=\"\", datacube=\"\"):\n",
        "  allcubes=[]\n",
        "  ln=len(columns)\n",
        "  if(d==0):\n",
        "    ln=1\n",
        "    \n",
        "  for dim in range(d,ln):\n",
        "    # print(dim)\n",
        "    col = str(columns[dim])\n",
        "    x = input[col].value_counts()\n",
        "    for a in x.iteritems():\n",
        "      val = a[0]\n",
        "      if(a[1]>minsup):\n",
        "        ndf = input[input[col]==val]\n",
        "        file = cube+col_dict[col]+\".txt\"\n",
        "        with open(file, 'a') as f:\n",
        "          if(file not in allcubes):\n",
        "            allcubes.append(file)\n",
        "          # print(file,len(ndf))\n",
        "          f.write(datacube +\" \"+ str(val) +\"=\"+ str(len(ndf)) + \"\\n\")\n",
        "          f.close()\n",
        "        x = BUC1(ndf,dim+1,minsup, cube+col_dict[col], datacube+\" \"+str(val))\n",
        "        for a in x:\n",
        "          if a not in allcubes:\n",
        "            allcubes.append(a)\n",
        "  return allcubes"
      ],
      "metadata": {
        "id": "bffE8nIVOe_T"
      },
      "execution_count": 13,
      "outputs": []
    },
    {
      "cell_type": "code",
      "source": [
        "def partition(col,minsup):\n",
        "  %rm ../partition/*\n",
        "  files=[]\n",
        "  unique_vals = df[col].unique()\n",
        "  for i in range (len(unique_vals)):\n",
        "    ndf = df[df[col]==unique_vals[i]]\n",
        "    if(len(ndf)>minsup):\n",
        "      ndf.to_csv('../partition/'+str(i)+'.csv', sep='\\t', encoding='utf-8')\n",
        "      files.append(i)\n",
        "  return files\n",
        "\n",
        "def paging(mem,minsup):\n",
        "  cubes=[]\n",
        "  for col in df.columns:\n",
        "    \n",
        "    pdata =[]\n",
        "    n=0\n",
        "    unique_vals = df[col].unique()\n",
        "    f = partition(col,minsup)\n",
        "    for i in f:\n",
        "      fs = os.path.getsize('../partition/'+str(i)+'.csv')\n",
        "      if(fs + n > mem):\n",
        "        # print(len(pdata),fs,n)\n",
        "        pdf = pd.concat(pdata)\n",
        "        n=0\n",
        "        x=BUC1(pdf,df.columns.get_loc(col),minsup)\n",
        "        for a in x:\n",
        "          if a not in cubes:\n",
        "            cubes.append(a)\n",
        "        pdata=[]\n",
        "      ndf = pd.read_csv('../partition/'+str(i)+'.csv',sep='\\t')\n",
        "      pdata.append(ndf)\n",
        "      n+= fs\n",
        "    if(n>0):\n",
        "      pdf = pd.concat(pdata)\n",
        "      x=BUC1(pdf,df.columns.get_loc(col),minsup)\n",
        "      for a in x:\n",
        "        if a not in cubes:\n",
        "          cubes.append(a)\n",
        "\n",
        "  return cubes\n",
        "\n",
        "\n",
        "cubes = paging(1500000,1000)"
      ],
      "metadata": {
        "colab": {
          "base_uri": "https://localhost:8080/"
        },
        "id": "WOXCoLlMzH4r",
        "outputId": "2b9ba48a-41be-4fcf-e366-5e1beb8a8ae5"
      },
      "execution_count": 14,
      "outputs": [
        {
          "output_type": "stream",
          "name": "stdout",
          "text": [
            "rm: cannot remove '../partition/*': No such file or directory\n",
            "rm: cannot remove '../partition/*': No such file or directory\n",
            "rm: cannot remove '../partition/*': No such file or directory\n",
            "rm: cannot remove '../partition/*': No such file or directory\n",
            "rm: cannot remove '../partition/*': No such file or directory\n",
            "rm: cannot remove '../partition/*': No such file or directory\n"
          ]
        }
      ]
    },
    {
      "cell_type": "code",
      "source": [
        "print(cubes)"
      ],
      "metadata": {
        "colab": {
          "base_uri": "https://localhost:8080/"
        },
        "id": "Bz0XzOwy79Hf",
        "outputId": "f9b2f249-dede-43c0-9928-592dcbf90e26"
      },
      "execution_count": 15,
      "outputs": [
        {
          "output_type": "stream",
          "name": "stdout",
          "text": [
            "['b.txt', 'c.txt', 'cd.txt', 'cl.txt', 'ce.txt', 'ceg.txt', 'cg.txt', 'd.txt', 'dl.txt', 'e.txt', 'eg.txt', 'g.txt', 'l.txt', 'cdl.txt', 'de.txt', 'deg.txt', 'dg.txt', 'egl.txt', 'el.txt', 'gl.txt']\n"
          ]
        }
      ]
    },
    {
      "cell_type": "code",
      "source": [
        "len(cubes)"
      ],
      "metadata": {
        "colab": {
          "base_uri": "https://localhost:8080/"
        },
        "id": "pJiaIy53IePS",
        "outputId": "403b7f90-d892-48c6-8d80-e327ddbb7ea9"
      },
      "execution_count": 16,
      "outputs": [
        {
          "output_type": "execute_result",
          "data": {
            "text/plain": [
              "20"
            ]
          },
          "metadata": {},
          "execution_count": 16
        }
      ]
    },
    {
      "cell_type": "code",
      "source": [
        "for file in cubes:\n",
        "  file_dict={}\n",
        "  with open(file, 'r') as f:\n",
        "    lines = f.readlines()\n",
        "    for line in lines:\n",
        "      k,v = line.split('=')\n",
        "      if k in file_dict.keys():\n",
        "        file_dict[k]=max(file_dict[k],int(v[:-1]))\n",
        "      else:\n",
        "        file_dict[k]=int(v[:-1])\n",
        "  open(file, \"w\").close()\n",
        "  with open(file, 'a') as f:\n",
        "    for k,v in file_dict.items():\n",
        "      f.write(k+\"=\"+str(v)+\"\\n\")\n",
        "    f.close()"
      ],
      "metadata": {
        "id": "VdJGJGq5Hph-"
      },
      "execution_count": 17,
      "outputs": []
    },
    {
      "cell_type": "code",
      "source": [
        "cubes.sort()\n",
        "buccubes.sort()\n",
        "for i in range(20):\n",
        "  print(cubes[i],buccubes[i])"
      ],
      "metadata": {
        "colab": {
          "base_uri": "https://localhost:8080/"
        },
        "id": "C1Mgvt6qLMEt",
        "outputId": "fa38f112-e384-4b4f-f2e9-fe534529fba9"
      },
      "execution_count": 18,
      "outputs": [
        {
          "output_type": "stream",
          "name": "stdout",
          "text": [
            "b.txt b.txt\n",
            "c.txt c.txt\n",
            "cd.txt cd.txt\n",
            "cdl.txt cdl.txt\n",
            "ce.txt ce.txt\n",
            "ceg.txt ceg.txt\n",
            "cg.txt cg.txt\n",
            "cl.txt cl.txt\n",
            "d.txt d.txt\n",
            "de.txt de.txt\n",
            "deg.txt deg.txt\n",
            "dg.txt dg.txt\n",
            "dl.txt dl.txt\n",
            "e.txt e.txt\n",
            "eg.txt eg.txt\n",
            "egl.txt egl.txt\n",
            "el.txt el.txt\n",
            "g.txt g.txt\n",
            "gl.txt gl.txt\n",
            "l.txt l.txt\n"
          ]
        }
      ]
    },
    {
      "cell_type": "code",
      "source": [],
      "metadata": {
        "id": "YwsaOIHcWxHk"
      },
      "execution_count": null,
      "outputs": []
    },
    {
      "cell_type": "markdown",
      "source": [
        "plots"
      ],
      "metadata": {
        "id": "nHBYEnyFZjW7"
      }
    },
    {
      "cell_type": "markdown",
      "source": [
        "**1) A plot of minsup vs. runtime, keeping allotted memory fixed**"
      ],
      "metadata": {
        "id": "D0IytNQzl9cN"
      }
    },
    {
      "cell_type": "code",
      "source": [
        "import time\n",
        "x=[]\n",
        "y=[]\n",
        "for i in range(500,5000,500):\n",
        "  %cd '/content/gdrive/My Drive/temp'\n",
        "  %rm ./*\n",
        "  x.append(i)\n",
        "  st= time.time()\n",
        "  res = BUC(df,0,i)\n",
        "  et = time.time()\n",
        "  y.append(et-st)"
      ],
      "metadata": {
        "id": "RHTKxcYTP_sS",
        "colab": {
          "base_uri": "https://localhost:8080/"
        },
        "outputId": "d3e5e856-80ff-4af1-934a-fe8caec1eb3b"
      },
      "execution_count": 197,
      "outputs": [
        {
          "output_type": "stream",
          "name": "stdout",
          "text": [
            "/content/gdrive/My Drive/temp\n",
            "/content/gdrive/My Drive/temp\n",
            "/content/gdrive/My Drive/temp\n",
            "/content/gdrive/My Drive/temp\n",
            "/content/gdrive/My Drive/temp\n",
            "/content/gdrive/My Drive/temp\n",
            "/content/gdrive/My Drive/temp\n",
            "/content/gdrive/My Drive/temp\n",
            "/content/gdrive/My Drive/temp\n"
          ]
        }
      ]
    },
    {
      "cell_type": "code",
      "source": [
        "print(x)\n",
        "print(y)"
      ],
      "metadata": {
        "colab": {
          "base_uri": "https://localhost:8080/"
        },
        "id": "YquVgjL7mpMq",
        "outputId": "b4bdfad1-9f1b-47ee-8de8-a7cbc14683cb"
      },
      "execution_count": 198,
      "outputs": [
        {
          "output_type": "stream",
          "name": "stdout",
          "text": [
            "[500, 1000, 1500, 2000, 2500, 3000, 3500, 4000, 4500]\n",
            "[1.7736690044403076, 0.9425740242004395, 0.6526634693145752, 0.593339204788208, 0.40611958503723145, 0.3094046115875244, 0.2895939350128174, 0.2923309803009033, 0.23499774932861328]\n"
          ]
        }
      ]
    },
    {
      "cell_type": "code",
      "source": [
        "plt.plot(x,y)\n",
        "plt.xlabel('minsup')\n",
        "plt.ylabel('time taken')"
      ],
      "metadata": {
        "colab": {
          "base_uri": "https://localhost:8080/",
          "height": 296
        },
        "id": "AAYNeQu_msQn",
        "outputId": "9bfa76a2-20c5-4cce-ed26-92cdd39ed5fa"
      },
      "execution_count": 199,
      "outputs": [
        {
          "output_type": "execute_result",
          "data": {
            "text/plain": [
              "Text(0, 0.5, 'time taken')"
            ]
          },
          "metadata": {},
          "execution_count": 199
        },
        {
          "output_type": "display_data",
          "data": {
            "text/plain": [
              "<Figure size 432x288 with 1 Axes>"
            ],
            "image/png": "[encoded data removed]"
          },
          "metadata": {
            "needs_background": "light"
          }
        }
      ]
    },
    {
      "cell_type": "markdown",
      "source": [
        "As min sup increases, the number of itemsets decreases, thus it takes less time to complete the algo"
      ],
      "metadata": {
        "id": "yXCI3J6u02DX"
      }
    },
    {
      "cell_type": "markdown",
      "source": [
        "**2) A plot of allotted memory vs. runtime, keeping minsup fixed.**"
      ],
      "metadata": {
        "id": "POCGvwXonYyI"
      }
    },
    {
      "cell_type": "code",
      "source": [
        "x1=[]\n",
        "y1=[]\n",
        "for i in range(1500000,5000000,1000000):\n",
        "  %cd '/content/gdrive/My Drive/temp1'\n",
        "  %rm ./*\n",
        "  x1.append(i)\n",
        "  st= time.time()\n",
        "  res = paging(i,1000)\n",
        "  et = time.time()\n",
        "  y1.append(et-st)"
      ],
      "metadata": {
        "colab": {
          "base_uri": "https://localhost:8080/"
        },
        "id": "CcYPov54nA2J",
        "outputId": "50a3a6ac-c5af-4a4d-add2-7ed0f74bf1be"
      },
      "execution_count": 200,
      "outputs": [
        {
          "output_type": "stream",
          "name": "stdout",
          "text": [
            "/content/gdrive/My Drive/temp1\n",
            "rm: cannot remove '../partition/*': No such file or directory\n",
            "rm: cannot remove '../partition/*': No such file or directory\n",
            "rm: cannot remove '../partition/*': No such file or directory\n",
            "rm: cannot remove '../partition/*': No such file or directory\n",
            "rm: cannot remove '../partition/*': No such file or directory\n",
            "rm: cannot remove '../partition/*': No such file or directory\n",
            "/content/gdrive/My Drive/temp1\n",
            "rm: cannot remove '../partition/*': No such file or directory\n",
            "rm: cannot remove '../partition/*': No such file or directory\n",
            "rm: cannot remove '../partition/*': No such file or directory\n",
            "rm: cannot remove '../partition/*': No such file or directory\n",
            "rm: cannot remove '../partition/*': No such file or directory\n",
            "rm: cannot remove '../partition/*': No such file or directory\n",
            "/content/gdrive/My Drive/temp1\n",
            "rm: cannot remove '../partition/*': No such file or directory\n",
            "rm: cannot remove '../partition/*': No such file or directory\n",
            "rm: cannot remove '../partition/*': No such file or directory\n",
            "rm: cannot remove '../partition/*': No such file or directory\n",
            "rm: cannot remove '../partition/*': No such file or directory\n",
            "rm: cannot remove '../partition/*': No such file or directory\n",
            "/content/gdrive/My Drive/temp1\n",
            "rm: cannot remove '../partition/*': No such file or directory\n",
            "rm: cannot remove '../partition/*': No such file or directory\n",
            "rm: cannot remove '../partition/*': No such file or directory\n",
            "rm: cannot remove '../partition/*': No such file or directory\n",
            "rm: cannot remove '../partition/*': No such file or directory\n",
            "rm: cannot remove '../partition/*': No such file or directory\n"
          ]
        }
      ]
    },
    {
      "cell_type": "code",
      "source": [
        "print(x1,y1)"
      ],
      "metadata": {
        "colab": {
          "base_uri": "https://localhost:8080/"
        },
        "id": "54wAp6tvoBJS",
        "outputId": "32da9b1e-9f82-402e-f6c1-2cb9c661e04a"
      },
      "execution_count": 201,
      "outputs": [
        {
          "output_type": "stream",
          "name": "stdout",
          "text": [
            "[1500000, 2500000, 3500000, 4500000] [24.45358443260193, 24.442143201828003, 24.477418422698975, 24.541354656219482]\n"
          ]
        }
      ]
    },
    {
      "cell_type": "code",
      "source": [
        "plt.plot(x1,y1)\n",
        "plt.xlabel('Memory')\n",
        "plt.ylabel('time taken')"
      ],
      "metadata": {
        "colab": {
          "base_uri": "https://localhost:8080/",
          "height": 296
        },
        "id": "NA1c6npRoh8J",
        "outputId": "4c63c79a-69e9-4d11-8a7e-7dbb38f55d3e"
      },
      "execution_count": 202,
      "outputs": [
        {
          "output_type": "execute_result",
          "data": {
            "text/plain": [
              "Text(0, 0.5, 'time taken')"
            ]
          },
          "metadata": {},
          "execution_count": 202
        },
        {
          "output_type": "display_data",
          "data": {
            "text/plain": [
              "<Figure size 432x288 with 1 Axes>"
            ],
            "image/png": "[encoded data removed]"
          },
          "metadata": {
            "needs_background": "light"
          }
        }
      ]
    },
    {
      "cell_type": "markdown",
      "source": [
        "from the above picture, we can see that the graph is gradually increases. this is because, since the memory increases, we tend to put more pages into a singal memory frame and then combining all it takes more time"
      ],
      "metadata": {
        "id": "U586o9S21HyB"
      }
    },
    {
      "cell_type": "code",
      "source": [],
      "metadata": {
        "id": "85laY7K-okVM"
      },
      "execution_count": null,
      "outputs": []
    }
  ],
  "metadata": {
    "colab": {
      "provenance": [],
      "collapsed_sections": []
    },
    "kernelspec": {
      "display_name": "Python 3",
      "name": "python3"
    },
    "language_info": {
      "name": "python"
    }
  },
  "nbformat": 4,
  "nbformat_minor": 0
}